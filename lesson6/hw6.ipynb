{
  "cells": [
    {
      "cell_type": "markdown",
      "metadata": {
        "id": "view-in-github",
        "colab_type": "text"
      },
      "source": [
        "<a href=\"https://colab.research.google.com/github/ddekun/Intro_Neural_Networks/blob/lesson6/lesson6/hw6.ipynb\" target=\"_parent\"><img src=\"https://colab.research.google.com/assets/colab-badge.svg\" alt=\"Open In Colab\"/></a>"
      ]
    },
    {
      "cell_type": "markdown",
      "metadata": {
        "id": "gbC7FamXxkHi"
      },
      "source": [
        "# Введение в нейронные сети"
      ]
    },
    {
      "cell_type": "markdown",
      "metadata": {
        "id": "ryGz2LT0xnt3"
      },
      "source": [
        "### Урок 6. Сегментация"
      ]
    },
    {
      "cell_type": "markdown",
      "metadata": {
        "id": "fYrmvCHpxwTS"
      },
      "source": [
        "1. Попробуйте обучить нейронную сеть U-Net на любом другом датасете. Напишите в комментариях к уроку, какого результата вы добились от нейросети, что помогло улучшить её точность?\n",
        "2. Попробуйте свои силы в задаче Carvana на Kaggle: https://www.kaggle.com/c/carvana-image-masking-challenge/overview"
      ]
    },
    {
      "cell_type": "code",
      "execution_count": null,
      "metadata": {
        "id": "0k09L98sxh1B"
      },
      "outputs": [],
      "source": [
        "from tensorflow.keras.models import Model\n",
        "from tensorflow.keras.datasets import mnist\n",
        "from tensorflow.keras.layers import Input, Conv2DTranspose, concatenate, Activation, MaxPooling2D, Conv2D, BatchNormalization\n",
        "from tensorflow.keras import backend as K\n",
        "from tensorflow.keras.optimizers import Adam\n",
        "from tensorflow.keras import utils\n",
        "import matplotlib.pyplot as plt\n",
        "from tensorflow.keras.preprocessing import image\n",
        "from tensorflow.keras.applications import VGG16\n",
        "from tensorflow.keras.utils import plot_model\n",
        "import numpy as np\n",
        "from PIL import Image\n",
        "import tensorflow as tf\n",
        "import cv2\n",
        "import os, fnmatch"
      ]
    },
    {
      "cell_type": "code",
      "execution_count": null,
      "metadata": {
        "id": "SAgB1cTJx2Ij"
      },
      "outputs": [],
      "source": [
        "# Это наша метрика на Tensorflow\n",
        "\n",
        "def dice_coef(y_true, y_pred):\n",
        "    return (2. * K.sum(y_true * y_pred) + 1.) / (K.sum(y_true) + K.sum(y_pred) + 1.)"
      ]
    },
    {
      "cell_type": "markdown",
      "metadata": {
        "id": "JrBHC914x4k-"
      },
      "source": [
        "**Загрузка данных**"
      ]
    },
    {
      "cell_type": "code",
      "execution_count": null,
      "metadata": {
        "id": "1S378Sl1x6ar"
      },
      "outputs": [],
      "source": [
        "PAHT_label = 'train_masks/'\n",
        "PAHT_image = 'train/'"
      ]
    },
    {
      "cell_type": "code",
      "execution_count": null,
      "metadata": {
        "id": "M7FDzCDt5GBe"
      },
      "outputs": [],
      "source": [
        "imag_label = os.listdir(PAHT_label)\n",
        "imag = os.listdir(PAHT_image)"
      ]
    },
    {
      "cell_type": "code",
      "execution_count": null,
      "metadata": {
        "id": "vooBOoCS5GBf",
        "outputId": "0d843796-4c96-4369-802d-c96bf995d529"
      },
      "outputs": [
        {
          "data": {
            "text/plain": [
              "['00087a6bd4dc_01.jpg',\n",
              " '00087a6bd4dc_02.jpg',\n",
              " '00087a6bd4dc_03.jpg',\n",
              " '00087a6bd4dc_04.jpg',\n",
              " '00087a6bd4dc_05.jpg',\n",
              " '00087a6bd4dc_06.jpg',\n",
              " '00087a6bd4dc_07.jpg',\n",
              " '00087a6bd4dc_08.jpg',\n",
              " '00087a6bd4dc_09.jpg',\n",
              " '00087a6bd4dc_10.jpg']"
            ]
          },
          "execution_count": 5,
          "metadata": {},
          "output_type": "execute_result"
        }
      ],
      "source": [
        "imag.sort()\n",
        "imag[:10]"
      ]
    },
    {
      "cell_type": "code",
      "execution_count": null,
      "metadata": {
        "id": "yArbH9rw5GBg",
        "outputId": "556aeb31-807b-44f0-d317-af4a05cf0f98"
      },
      "outputs": [
        {
          "data": {
            "text/plain": [
              "['00087a6bd4dc_01_mask.gif',\n",
              " '00087a6bd4dc_02_mask.gif',\n",
              " '00087a6bd4dc_03_mask.gif',\n",
              " '00087a6bd4dc_04_mask.gif',\n",
              " '00087a6bd4dc_05_mask.gif',\n",
              " '00087a6bd4dc_06_mask.gif',\n",
              " '00087a6bd4dc_07_mask.gif',\n",
              " '00087a6bd4dc_08_mask.gif',\n",
              " '00087a6bd4dc_09_mask.gif',\n",
              " '00087a6bd4dc_10_mask.gif']"
            ]
          },
          "execution_count": 6,
          "metadata": {},
          "output_type": "execute_result"
        }
      ],
      "source": [
        "imag_label.sort()\n",
        "imag_label[:10]"
      ]
    },
    {
      "cell_type": "code",
      "execution_count": null,
      "metadata": {
        "id": "XvXxG79Y5GBg",
        "outputId": "7904344d-35e7-4100-be12-6106ee62dabb"
      },
      "outputs": [
        {
          "data": {
            "text/plain": [
              "5088"
            ]
          },
          "execution_count": 7,
          "metadata": {},
          "output_type": "execute_result"
        }
      ],
      "source": [
        "len(imag)"
      ]
    },
    {
      "cell_type": "code",
      "execution_count": null,
      "metadata": {
        "id": "qBxviqvc5GBh"
      },
      "outputs": [],
      "source": [
        "images = []\n",
        "segments = []\n",
        "image_size = (200,600)\n",
        "for i_name in imag[:100]:\n",
        "  images.append(image.load_img(PAHT_image+i_name ,target_size=image_size))\n",
        "\n",
        "for i_name in imag_label[:100]:\n",
        "  segments.append(image.load_img(PAHT_label+i_name, target_size=image_size))"
      ]
    },
    {
      "cell_type": "code",
      "execution_count": null,
      "metadata": {
        "id": "cgpPm6Bj5GBh",
        "outputId": "af01f284-6e44-4a1a-b408-dc7e7a01bba3"
      },
      "outputs": [
        {
          "data": {
            "image/png": "[encoded data removed]",
            "text/plain": [
              "<Figure size 640x480 with 1 Axes>"
            ]
          },
          "metadata": {},
          "output_type": "display_data"
        }
      ],
      "source": [
        "def Color2index(y):\n",
        "  arr_col=[[255,255,255],[0,0,0]]\n",
        "  y_ind = np.zeros((y.shape[0],y.shape[1]))\n",
        "  y_cat = np.zeros((y.shape[0],y.shape[1], len(arr_col)))\n",
        "  i = 1\n",
        "  for i_color in arr_col:\n",
        "    ind_i = np.where((y[:,:,0]==i_color[0])&(y[:,:,1]==i_color[1])&(y[:,:,2]==i_color[2]))\n",
        "    y_ind[ind_i[0],ind_i[1]] = i\n",
        "    y_cat[ind_i[0],ind_i[1], i-1] = 1\n",
        "    i += 1\n",
        "\n",
        "  return y_cat, y_ind, i-1\n",
        "cat_yi,ind_yi,h = Color2index(image.img_to_array(segments[0]))\n",
        "plt.imshow(ind_yi.astype(float)/h)\n",
        "plt.show()"
      ]
    },
    {
      "cell_type": "code",
      "execution_count": null,
      "metadata": {
        "id": "2dmIvQAd5GBh",
        "outputId": "503a3c4b-aa52-4443-b59d-d38a37dd3fe5"
      },
      "outputs": [
        {
          "name": "stdout",
          "output_type": "stream",
          "text": [
            "(80, 200, 600, 3)\n",
            "(80, 200, 600, 2)\n"
          ]
        }
      ],
      "source": [
        "# входные данные\n",
        "xTrain_Test = []\n",
        "\n",
        "for img in images:\n",
        "  x = image.img_to_array(img)\n",
        "  xTrain_Test.append(x)\n",
        "\n",
        "xTrain_Test = np.array(xTrain_Test)\n",
        "\n",
        "yTrain_Test = []\n",
        "\n",
        "for seg in segments:\n",
        "  y_cat,_,_ = Color2index(image.img_to_array(seg))\n",
        "  yTrain_Test.append(y_cat)\n",
        "\n",
        "yTrain_Test = np.array(yTrain_Test)\n",
        "\n",
        "# print(xTrain_Test.shape)\n",
        "\n",
        "# print(yTrain_Test.shape)\n",
        "\n",
        "N = int(xTrain_Test.shape[0]*.8)\n",
        "\n",
        "yTrain = yTrain_Test[:N,:,:,:]\n",
        "xTrain = xTrain_Test[:N,:,:,:]\n",
        "\n",
        "yTest = yTrain_Test[N:,:,:,:]\n",
        "xTest = xTrain_Test[N:,:,:,:]\n",
        "\n",
        "print(xTrain.shape)\n",
        "print(yTrain.shape)"
      ]
    },
    {
      "cell_type": "markdown",
      "metadata": {
        "id": "m191pHG75GBi"
      },
      "source": [
        "**Модель**"
      ]
    },
    {
      "cell_type": "code",
      "execution_count": null,
      "metadata": {
        "id": "RkS1mniB5GBi"
      },
      "outputs": [],
      "source": [
        "def Unet(num_classes = 14, input_shape= (200, 600, 3)):\n",
        "    img_input = Input(input_shape)\n",
        "\n",
        "    # Block 1\n",
        "    x = Conv2D(64, (3, 3), padding='same', name='block1_conv1')(img_input)\n",
        "    x = BatchNormalization()(x)\n",
        "    x = Activation('relu')(x)\n",
        "\n",
        "    x = Conv2D(64, (3, 3), padding='same', name='block1_conv2')(x)\n",
        "    x = BatchNormalization()(x)\n",
        "    # запомним тензор для переноса\n",
        "    block_1_out = Activation('relu')(x)\n",
        "\n",
        "    x = MaxPooling2D()(block_1_out) # 100x300\n",
        "\n",
        "    # Block 2\n",
        "    x = Conv2D(128, (3, 3), padding='same', name='block2_conv1')(x)\n",
        "    x = BatchNormalization()(x)\n",
        "    x = Activation('relu')(x)\n",
        "\n",
        "    x = Conv2D(128, (3, 3), padding='same', name='block2_conv2')(x)\n",
        "    x = BatchNormalization()(x)\n",
        "    # запомним тензор для переноса\n",
        "    block_2_out = Activation('relu')(x)\n",
        "\n",
        "    x = MaxPooling2D()(block_2_out) # 50x150\n",
        "\n",
        "    # Block 3\n",
        "    x = Conv2D(256, (3, 3), padding='same', name='block3_conv1')(x)\n",
        "    x = BatchNormalization()(x)\n",
        "    x = Activation('relu')(x)\n",
        "\n",
        "    x = Conv2D(256, (3, 3), padding='same', name='block3_conv2')(x)\n",
        "    x = BatchNormalization()(x)\n",
        "    x = Activation('relu')(x)\n",
        "\n",
        "    x = Conv2D(256, (3, 3), padding='same', name='block3_conv3')(x)\n",
        "    x = BatchNormalization()(x)\n",
        "    # запомним тензор для переноса\n",
        "    block_3_out = Activation('relu')(x)\n",
        "\n",
        "    x = MaxPooling2D()(block_3_out) #25x75\n",
        "\n",
        "    # Block 4\n",
        "    x = Conv2D(512, (3, 3), padding='same', name='block4_conv1')(x)\n",
        "    x = BatchNormalization()(x)\n",
        "    x = Activation('relu')(x)\n",
        "\n",
        "    x = Conv2D(512, (3, 3), padding='same', name='block4_conv2')(x)\n",
        "    x = BatchNormalization()(x)\n",
        "    x = Activation('relu')(x)\n",
        "\n",
        "    x = Conv2D(512, (3, 3), padding='same', name='block4_conv3')(x)\n",
        "    x = BatchNormalization()(x)\n",
        "    # запомним тензор для переноса\n",
        "    block_4_out = Activation('relu')(x)\n",
        "\n",
        "    #x = MaxPooling2D()(block_4_out)\n",
        "\n",
        "    # Block 5\n",
        "    #x = Conv2D(512, (3, 3), padding='same', name='block5_conv1')(x)\n",
        "    #x = BatchNormalization()(x)\n",
        "    #x = Activation('relu')(x)\n",
        "\n",
        "    #x = Conv2D(512, (3, 3), padding='same', name='block5_conv2')(x)\n",
        "    #x = BatchNormalization()(x)\n",
        "    #x = Activation('relu')(x)\n",
        "\n",
        "    #x = Conv2D(512, (3, 3), padding='same', name='block5_conv3')(x)\n",
        "    #x = BatchNormalization()(x)\n",
        "    #x = Activation('relu')(x)\n",
        "\n",
        "\n",
        "    # Load pretrained weights.\n",
        "    #for_pretrained_weight = MaxPooling2D()(x)\n",
        "    #vgg16 = Model(img_input, for_pretrained_weight)\n",
        "    #vgg16.load_weights('vgg16_weights_tf_dim_ordering_tf_kernels_notop.h5', by_name=True)\n",
        "\n",
        "    # UP 1\n",
        "    #x = Conv2DTranspose(512, (2, 2), strides=(2, 2), padding='same')(x)\n",
        "    #x = BatchNormalization()(x)\n",
        "    #x = Activation('relu')(x)\n",
        "\n",
        "    #x = concatenate([x, block_4_out])\n",
        "    #x = Conv2D(512, (3, 3), padding='same')(x)\n",
        "    #x = BatchNormalization()(x)\n",
        "    #x = Activation('relu')(x)\n",
        "\n",
        "    #x = Conv2D(512, (3, 3), padding='same')(x)\n",
        "    #x = BatchNormalization()(x)\n",
        "    #x = Activation('relu')(x)\n",
        "\n",
        "    # UP 2\n",
        "    x = Conv2DTranspose(256, (2, 2), strides=(2, 2), padding='same')(x) #50x150\n",
        "    x = BatchNormalization()(x)\n",
        "    x = Activation('relu')(x)\n",
        "\n",
        "    # добавили перенос из понижаюшего плеча\n",
        "    x = concatenate([x, block_3_out])\n",
        "    x = Conv2D(256, (3, 3), padding='same')(x)\n",
        "    x = BatchNormalization()(x)\n",
        "    x = Activation('relu')(x)\n",
        "\n",
        "    x = Conv2D(256, (3, 3), padding='same')(x)\n",
        "    x = BatchNormalization()(x)\n",
        "    x = Activation('relu')(x)\n",
        "\n",
        "    # UP 3\n",
        "    x = Conv2DTranspose(128, (2, 2), strides=(2, 2), padding='same')(x) # 100x300\n",
        "    x = BatchNormalization()(x)\n",
        "    x = Activation('relu')(x)\n",
        "\n",
        "    # добавили перенос из понижаюшего плеча\n",
        "    x = concatenate([x, block_2_out])\n",
        "    x = Conv2D(128, (3, 3), padding='same')(x)\n",
        "    x = BatchNormalization()(x)\n",
        "    x = Activation('relu')(x)\n",
        "\n",
        "    x = Conv2D(128, (3, 3), padding='same')(x)\n",
        "    x = BatchNormalization()(x)\n",
        "    x = Activation('relu')(x)\n",
        "\n",
        "    # UP 4\n",
        "    x = Conv2DTranspose(64, (2, 2), strides=(2, 2), padding='same')(x) # 200x600\n",
        "    x = BatchNormalization()(x)\n",
        "    x = Activation('relu')(x)\n",
        "\n",
        "    # добавили перенос из понижаюшего плеча\n",
        "    x = concatenate([x, block_1_out])\n",
        "    x = Conv2D(64, (3, 3), padding='same')(x)\n",
        "    x = BatchNormalization()(x)\n",
        "    x = Activation('relu')(x)\n",
        "\n",
        "    x = Conv2D(64, (3, 3), padding='same')(x)\n",
        "    x = BatchNormalization()(x)\n",
        "    x = Activation('relu')(x)\n",
        "\n",
        "    # слой классификатор\n",
        "    x = Conv2D(num_classes, (3, 3), activation='softmax', padding='same')(x)\n",
        "\n",
        "    model = Model(img_input, x)\n",
        "    model.compile(optimizer=Adam(),\n",
        "                  loss='categorical_crossentropy',\n",
        "                  metrics=[dice_coef])\n",
        "    model.summary()\n",
        "    return model"
      ]
    },
    {
      "cell_type": "code",
      "execution_count": null,
      "metadata": {
        "id": "dPPUPZyw5GBj",
        "outputId": "8e0e3c5a-dacf-46b3-a689-80361ec557aa"
      },
      "outputs": [
        {
          "name": "stdout",
          "output_type": "stream",
          "text": [
            "Model: \"model_4\"\n",
            "__________________________________________________________________________________________________\n",
            " Layer (type)                   Output Shape         Param #     Connected to                     \n",
            "==================================================================================================\n",
            " input_5 (InputLayer)           [(None, 200, 600, 3  0           []                               \n",
            "                                )]                                                                \n",
            "                                                                                                  \n",
            " block1_conv1 (Conv2D)          (None, 200, 600, 64  1792        ['input_5[0][0]']                \n",
            "                                )                                                                 \n",
            "                                                                                                  \n",
            " batch_normalization_76 (BatchN  (None, 200, 600, 64  256        ['block1_conv1[0][0]']           \n",
            " ormalization)                  )                                                                 \n",
            "                                                                                                  \n",
            " activation_76 (Activation)     (None, 200, 600, 64  0           ['batch_normalization_76[0][0]'] \n",
            "                                )                                                                 \n",
            "                                                                                                  \n",
            " block1_conv2 (Conv2D)          (None, 200, 600, 64  36928       ['activation_76[0][0]']          \n",
            "                                )                                                                 \n",
            "                                                                                                  \n",
            " batch_normalization_77 (BatchN  (None, 200, 600, 64  256        ['block1_conv2[0][0]']           \n",
            " ormalization)                  )                                                                 \n",
            "                                                                                                  \n",
            " activation_77 (Activation)     (None, 200, 600, 64  0           ['batch_normalization_77[0][0]'] \n",
            "                                )                                                                 \n",
            "                                                                                                  \n",
            " max_pooling2d_12 (MaxPooling2D  (None, 100, 300, 64  0          ['activation_77[0][0]']          \n",
            " )                              )                                                                 \n",
            "                                                                                                  \n",
            " block2_conv1 (Conv2D)          (None, 100, 300, 12  73856       ['max_pooling2d_12[0][0]']       \n",
            "                                8)                                                                \n",
            "                                                                                                  \n",
            " batch_normalization_78 (BatchN  (None, 100, 300, 12  512        ['block2_conv1[0][0]']           \n",
            " ormalization)                  8)                                                                \n",
            "                                                                                                  \n",
            " activation_78 (Activation)     (None, 100, 300, 12  0           ['batch_normalization_78[0][0]'] \n",
            "                                8)                                                                \n",
            "                                                                                                  \n",
            " block2_conv2 (Conv2D)          (None, 100, 300, 12  147584      ['activation_78[0][0]']          \n",
            "                                8)                                                                \n",
            "                                                                                                  \n",
            " batch_normalization_79 (BatchN  (None, 100, 300, 12  512        ['block2_conv2[0][0]']           \n",
            " ormalization)                  8)                                                                \n",
            "                                                                                                  \n",
            " activation_79 (Activation)     (None, 100, 300, 12  0           ['batch_normalization_79[0][0]'] \n",
            "                                8)                                                                \n",
            "                                                                                                  \n",
            " max_pooling2d_13 (MaxPooling2D  (None, 50, 150, 128  0          ['activation_79[0][0]']          \n",
            " )                              )                                                                 \n",
            "                                                                                                  \n",
            " block3_conv1 (Conv2D)          (None, 50, 150, 256  295168      ['max_pooling2d_13[0][0]']       \n",
            "                                )                                                                 \n",
            "                                                                                                  \n",
            " batch_normalization_80 (BatchN  (None, 50, 150, 256  1024       ['block3_conv1[0][0]']           \n",
            " ormalization)                  )                                                                 \n",
            "                                                                                                  \n",
            " activation_80 (Activation)     (None, 50, 150, 256  0           ['batch_normalization_80[0][0]'] \n",
            "                                )                                                                 \n",
            "                                                                                                  \n",
            " block3_conv2 (Conv2D)          (None, 50, 150, 256  590080      ['activation_80[0][0]']          \n",
            "                                )                                                                 \n",
            "                                                                                                  \n",
            " batch_normalization_81 (BatchN  (None, 50, 150, 256  1024       ['block3_conv2[0][0]']           \n",
            " ormalization)                  )                                                                 \n",
            "                                                                                                  \n",
            " activation_81 (Activation)     (None, 50, 150, 256  0           ['batch_normalization_81[0][0]'] \n",
            "                                )                                                                 \n",
            "                                                                                                  \n",
            " block3_conv3 (Conv2D)          (None, 50, 150, 256  590080      ['activation_81[0][0]']          \n",
            "                                )                                                                 \n",
            "                                                                                                  \n",
            " batch_normalization_82 (BatchN  (None, 50, 150, 256  1024       ['block3_conv3[0][0]']           \n",
            " ormalization)                  )                                                                 \n",
            "                                                                                                  \n",
            " activation_82 (Activation)     (None, 50, 150, 256  0           ['batch_normalization_82[0][0]'] \n",
            "                                )                                                                 \n",
            "                                                                                                  \n",
            " max_pooling2d_14 (MaxPooling2D  (None, 25, 75, 256)  0          ['activation_82[0][0]']          \n",
            " )                                                                                                \n",
            "                                                                                                  \n",
            " block4_conv1 (Conv2D)          (None, 25, 75, 512)  1180160     ['max_pooling2d_14[0][0]']       \n",
            "                                                                                                  \n",
            " batch_normalization_83 (BatchN  (None, 25, 75, 512)  2048       ['block4_conv1[0][0]']           \n",
            " ormalization)                                                                                    \n",
            "                                                                                                  \n"
          ]
        },
        {
          "name": "stdout",
          "output_type": "stream",
          "text": [
            " activation_83 (Activation)     (None, 25, 75, 512)  0           ['batch_normalization_83[0][0]'] \n",
            "                                                                                                  \n",
            " block4_conv2 (Conv2D)          (None, 25, 75, 512)  2359808     ['activation_83[0][0]']          \n",
            "                                                                                                  \n",
            " batch_normalization_84 (BatchN  (None, 25, 75, 512)  2048       ['block4_conv2[0][0]']           \n",
            " ormalization)                                                                                    \n",
            "                                                                                                  \n",
            " activation_84 (Activation)     (None, 25, 75, 512)  0           ['batch_normalization_84[0][0]'] \n",
            "                                                                                                  \n",
            " block4_conv3 (Conv2D)          (None, 25, 75, 512)  2359808     ['activation_84[0][0]']          \n",
            "                                                                                                  \n",
            " batch_normalization_85 (BatchN  (None, 25, 75, 512)  2048       ['block4_conv3[0][0]']           \n",
            " ormalization)                                                                                    \n",
            "                                                                                                  \n",
            " conv2d_transpose_12 (Conv2DTra  (None, 50, 150, 256  524544     ['batch_normalization_85[0][0]'] \n",
            " nspose)                        )                                                                 \n",
            "                                                                                                  \n",
            " batch_normalization_86 (BatchN  (None, 50, 150, 256  1024       ['conv2d_transpose_12[0][0]']    \n",
            " ormalization)                  )                                                                 \n",
            "                                                                                                  \n",
            " activation_86 (Activation)     (None, 50, 150, 256  0           ['batch_normalization_86[0][0]'] \n",
            "                                )                                                                 \n",
            "                                                                                                  \n",
            " concatenate_12 (Concatenate)   (None, 50, 150, 512  0           ['activation_86[0][0]',          \n",
            "                                )                                 'activation_82[0][0]']          \n",
            "                                                                                                  \n",
            " conv2d_28 (Conv2D)             (None, 50, 150, 256  1179904     ['concatenate_12[0][0]']         \n",
            "                                )                                                                 \n",
            "                                                                                                  \n",
            " batch_normalization_87 (BatchN  (None, 50, 150, 256  1024       ['conv2d_28[0][0]']              \n",
            " ormalization)                  )                                                                 \n",
            "                                                                                                  \n",
            " activation_87 (Activation)     (None, 50, 150, 256  0           ['batch_normalization_87[0][0]'] \n",
            "                                )                                                                 \n",
            "                                                                                                  \n",
            " conv2d_29 (Conv2D)             (None, 50, 150, 256  590080      ['activation_87[0][0]']          \n",
            "                                )                                                                 \n",
            "                                                                                                  \n",
            " batch_normalization_88 (BatchN  (None, 50, 150, 256  1024       ['conv2d_29[0][0]']              \n",
            " ormalization)                  )                                                                 \n",
            "                                                                                                  \n",
            " activation_88 (Activation)     (None, 50, 150, 256  0           ['batch_normalization_88[0][0]'] \n",
            "                                )                                                                 \n",
            "                                                                                                  \n",
            " conv2d_transpose_13 (Conv2DTra  (None, 100, 300, 12  131200     ['activation_88[0][0]']          \n",
            " nspose)                        8)                                                                \n",
            "                                                                                                  \n",
            " batch_normalization_89 (BatchN  (None, 100, 300, 12  512        ['conv2d_transpose_13[0][0]']    \n",
            " ormalization)                  8)                                                                \n",
            "                                                                                                  \n",
            " activation_89 (Activation)     (None, 100, 300, 12  0           ['batch_normalization_89[0][0]'] \n",
            "                                8)                                                                \n",
            "                                                                                                  \n",
            " concatenate_13 (Concatenate)   (None, 100, 300, 25  0           ['activation_89[0][0]',          \n",
            "                                6)                                'activation_79[0][0]']          \n",
            "                                                                                                  \n",
            " conv2d_30 (Conv2D)             (None, 100, 300, 12  295040      ['concatenate_13[0][0]']         \n",
            "                                8)                                                                \n",
            "                                                                                                  \n",
            " batch_normalization_90 (BatchN  (None, 100, 300, 12  512        ['conv2d_30[0][0]']              \n",
            " ormalization)                  8)                                                                \n",
            "                                                                                                  \n",
            " activation_90 (Activation)     (None, 100, 300, 12  0           ['batch_normalization_90[0][0]'] \n",
            "                                8)                                                                \n",
            "                                                                                                  \n",
            " conv2d_31 (Conv2D)             (None, 100, 300, 12  147584      ['activation_90[0][0]']          \n",
            "                                8)                                                                \n",
            "                                                                                                  \n",
            " batch_normalization_91 (BatchN  (None, 100, 300, 12  512        ['conv2d_31[0][0]']              \n",
            " ormalization)                  8)                                                                \n",
            "                                                                                                  \n",
            " activation_91 (Activation)     (None, 100, 300, 12  0           ['batch_normalization_91[0][0]'] \n",
            "                                8)                                                                \n",
            "                                                                                                  \n",
            " conv2d_transpose_14 (Conv2DTra  (None, 200, 600, 64  32832      ['activation_91[0][0]']          \n",
            " nspose)                        )                                                                 \n",
            "                                                                                                  \n",
            " batch_normalization_92 (BatchN  (None, 200, 600, 64  256        ['conv2d_transpose_14[0][0]']    \n",
            " ormalization)                  )                                                                 \n",
            "                                                                                                  \n",
            " activation_92 (Activation)     (None, 200, 600, 64  0           ['batch_normalization_92[0][0]'] \n",
            "                                )                                                                 \n",
            "                                                                                                  \n"
          ]
        },
        {
          "name": "stdout",
          "output_type": "stream",
          "text": [
            " concatenate_14 (Concatenate)   (None, 200, 600, 12  0           ['activation_92[0][0]',          \n",
            "                                8)                                'activation_77[0][0]']          \n",
            "                                                                                                  \n",
            " conv2d_32 (Conv2D)             (None, 200, 600, 64  73792       ['concatenate_14[0][0]']         \n",
            "                                )                                                                 \n",
            "                                                                                                  \n",
            " batch_normalization_93 (BatchN  (None, 200, 600, 64  256        ['conv2d_32[0][0]']              \n",
            " ormalization)                  )                                                                 \n",
            "                                                                                                  \n",
            " activation_93 (Activation)     (None, 200, 600, 64  0           ['batch_normalization_93[0][0]'] \n",
            "                                )                                                                 \n",
            "                                                                                                  \n",
            " conv2d_33 (Conv2D)             (None, 200, 600, 64  36928       ['activation_93[0][0]']          \n",
            "                                )                                                                 \n",
            "                                                                                                  \n",
            " batch_normalization_94 (BatchN  (None, 200, 600, 64  256        ['conv2d_33[0][0]']              \n",
            " ormalization)                  )                                                                 \n",
            "                                                                                                  \n",
            " activation_94 (Activation)     (None, 200, 600, 64  0           ['batch_normalization_94[0][0]'] \n",
            "                                )                                                                 \n",
            "                                                                                                  \n",
            " conv2d_34 (Conv2D)             (None, 200, 600, 2)  1154        ['activation_94[0][0]']          \n",
            "                                                                                                  \n",
            "==================================================================================================\n",
            "Total params: 10,664,450\n",
            "Trainable params: 10,656,386\n",
            "Non-trainable params: 8,064\n",
            "__________________________________________________________________________________________________\n",
            "You must install pydot (`pip install pydot`) and install graphviz (see instructions at https://graphviz.gitlab.io/download/) for plot_model to work.\n"
          ]
        }
      ],
      "source": [
        "modelC = Unet(2, (200, 600, 3))\n",
        "\n",
        "plot_model(modelC, to_file='modelC.png')"
      ]
    },
    {
      "cell_type": "code",
      "execution_count": null,
      "metadata": {
        "id": "Vr8nQRFt5GBj",
        "outputId": "a61c2a3b-3f52-4126-88c6-d5074017b4d9"
      },
      "outputs": [
        {
          "name": "stdout",
          "output_type": "stream",
          "text": [
            "Epoch 1/30\n",
            "80/80 [==============================] - 258s 3s/step - loss: 0.1048 - dice_coef: 0.9386 - val_loss: 0.2741 - val_dice_coef: 0.9597\n",
            "Epoch 2/30\n",
            "80/80 [==============================] - 252s 3s/step - loss: 0.0322 - dice_coef: 0.9809 - val_loss: 0.8109 - val_dice_coef: 0.9218\n",
            "Epoch 3/30\n",
            "80/80 [==============================] - 253s 3s/step - loss: 0.0296 - dice_coef: 0.9829 - val_loss: 0.7289 - val_dice_coef: 0.9261\n",
            "Epoch 4/30\n",
            "80/80 [==============================] - 260s 3s/step - loss: 0.0254 - dice_coef: 0.9848 - val_loss: 0.0801 - val_dice_coef: 0.9658\n",
            "Epoch 5/30\n",
            "80/80 [==============================] - 250s 3s/step - loss: 0.0195 - dice_coef: 0.9886 - val_loss: 0.7570 - val_dice_coef: 0.8889\n",
            "Epoch 6/30\n",
            "80/80 [==============================] - 247s 3s/step - loss: 0.0255 - dice_coef: 0.9855 - val_loss: 1.7084 - val_dice_coef: 0.8592\n",
            "Epoch 7/30\n",
            "80/80 [==============================] - 246s 3s/step - loss: 0.0222 - dice_coef: 0.9869 - val_loss: 0.7050 - val_dice_coef: 0.8900\n",
            "Epoch 8/30\n",
            "80/80 [==============================] - 246s 3s/step - loss: 0.0156 - dice_coef: 0.9910 - val_loss: 0.7161 - val_dice_coef: 0.8768\n",
            "Epoch 9/30\n",
            "80/80 [==============================] - 246s 3s/step - loss: 0.0145 - dice_coef: 0.9914 - val_loss: 0.8094 - val_dice_coef: 0.8386\n",
            "Epoch 10/30\n",
            "80/80 [==============================] - 246s 3s/step - loss: 0.0113 - dice_coef: 0.9933 - val_loss: 0.5437 - val_dice_coef: 0.8919\n",
            "Epoch 11/30\n",
            "80/80 [==============================] - 247s 3s/step - loss: 0.0104 - dice_coef: 0.9939 - val_loss: 0.1999 - val_dice_coef: 0.9441\n",
            "Epoch 12/30\n",
            "80/80 [==============================] - 246s 3s/step - loss: 0.0102 - dice_coef: 0.9941 - val_loss: 0.8819 - val_dice_coef: 0.7935\n",
            "Epoch 13/30\n",
            "80/80 [==============================] - 249s 3s/step - loss: 0.0133 - dice_coef: 0.9923 - val_loss: 0.2160 - val_dice_coef: 0.9207\n",
            "Epoch 14/30\n",
            "80/80 [==============================] - 248s 3s/step - loss: 0.0117 - dice_coef: 0.9932 - val_loss: 0.2048 - val_dice_coef: 0.9469\n",
            "Epoch 15/30\n",
            "80/80 [==============================] - 248s 3s/step - loss: 0.0099 - dice_coef: 0.9942 - val_loss: 0.0336 - val_dice_coef: 0.9839\n",
            "Epoch 16/30\n",
            "80/80 [==============================] - 248s 3s/step - loss: 0.0093 - dice_coef: 0.9946 - val_loss: 0.0679 - val_dice_coef: 0.9768\n",
            "Epoch 17/30\n",
            "80/80 [==============================] - 248s 3s/step - loss: 0.0082 - dice_coef: 0.9953 - val_loss: 1.2667 - val_dice_coef: 0.7915\n",
            "Epoch 18/30\n",
            "80/80 [==============================] - 248s 3s/step - loss: 0.0956 - dice_coef: 0.9522 - val_loss: 156.8875 - val_dice_coef: 0.2933\n",
            "Epoch 19/30\n",
            "80/80 [==============================] - 248s 3s/step - loss: 0.0400 - dice_coef: 0.9767 - val_loss: 1.0844 - val_dice_coef: 0.8286\n",
            "Epoch 20/30\n",
            "80/80 [==============================] - 248s 3s/step - loss: 0.0321 - dice_coef: 0.9814 - val_loss: 2.1165 - val_dice_coef: 0.6781\n",
            "Epoch 21/30\n",
            "80/80 [==============================] - 248s 3s/step - loss: 0.0253 - dice_coef: 0.9851 - val_loss: 0.1712 - val_dice_coef: 0.9336\n",
            "Epoch 22/30\n",
            "80/80 [==============================] - 248s 3s/step - loss: 0.0203 - dice_coef: 0.9879 - val_loss: 0.5699 - val_dice_coef: 0.8518\n",
            "Epoch 23/30\n",
            "80/80 [==============================] - 248s 3s/step - loss: 0.0172 - dice_coef: 0.9897 - val_loss: 0.6639 - val_dice_coef: 0.8121\n",
            "Epoch 24/30\n",
            "80/80 [==============================] - 248s 3s/step - loss: 0.0158 - dice_coef: 0.9908 - val_loss: 0.9179 - val_dice_coef: 0.7449\n",
            "Epoch 25/30\n",
            "80/80 [==============================] - 248s 3s/step - loss: 0.0126 - dice_coef: 0.9924 - val_loss: 0.5460 - val_dice_coef: 0.8694\n",
            "Epoch 26/30\n",
            "80/80 [==============================] - 248s 3s/step - loss: 0.0118 - dice_coef: 0.9930 - val_loss: 0.8245 - val_dice_coef: 0.7722\n",
            "Epoch 27/30\n",
            "80/80 [==============================] - 247s 3s/step - loss: 0.0107 - dice_coef: 0.9936 - val_loss: 0.6059 - val_dice_coef: 0.8825\n",
            "Epoch 28/30\n",
            "80/80 [==============================] - 248s 3s/step - loss: 0.0117 - dice_coef: 0.9931 - val_loss: 4.1645 - val_dice_coef: 0.3304\n",
            "Epoch 29/30\n",
            "80/80 [==============================] - 248s 3s/step - loss: 0.0108 - dice_coef: 0.9937 - val_loss: 1.2584 - val_dice_coef: 0.7104\n",
            "Epoch 30/30\n",
            "80/80 [==============================] - 248s 3s/step - loss: 0.0095 - dice_coef: 0.9944 - val_loss: 0.6767 - val_dice_coef: 0.8586\n"
          ]
        }
      ],
      "source": [
        "history = modelC.fit(xTrain, yTrain, epochs=30, batch_size=1, validation_data=(xTest, yTest))"
      ]
    },
    {
      "cell_type": "code",
      "execution_count": null,
      "metadata": {
        "id": "OVtM9aGX5GBj",
        "outputId": "bd0c5e0b-8095-42d9-d0b3-3c9a93c64578"
      },
      "outputs": [
        {
          "data": {
            "image/png": "[encoded data removed]",
            "text/plain": [
              "<Figure size 640x480 with 1 Axes>"
            ]
          },
          "metadata": {},
          "output_type": "display_data"
        }
      ],
      "source": [
        "plt.plot(history.history['val_dice_coef'],label = 'test')\n",
        "plt.plot(history.history['dice_coef'],label='train')\n",
        "plt.legend()\n",
        "plt.xlabel('epoch')\n",
        "plt.ylabel('dice_coef')\n",
        "plt.show()"
      ]
    },
    {
      "cell_type": "markdown",
      "metadata": {
        "id": "bXafph5r5GBj"
      },
      "source": [
        "**Претренированная модель**"
      ]
    },
    {
      "cell_type": "code",
      "execution_count": null,
      "metadata": {
        "id": "8fvYVNDn5GBk",
        "outputId": "dee74f87-347f-4f5f-ec96-44edecd10fd0"
      },
      "outputs": [
        {
          "name": "stdout",
          "output_type": "stream",
          "text": [
            "Downloading data from https://storage.googleapis.com/tensorflow/keras-applications/vgg16/vgg16_weights_tf_dim_ordering_tf_kernels_notop.h5\n",
            "58889256/58889256 [==============================] - 5s 0us/step\n"
          ]
        }
      ],
      "source": [
        "pre_trained_model = VGG16(input_shape=xTest.shape[1:], include_top=False, weights=\"imagenet\")"
      ]
    },
    {
      "cell_type": "code",
      "execution_count": null,
      "metadata": {
        "id": "qHFJ0GYb5GBk"
      },
      "outputs": [],
      "source": [
        "def bloc_transpose(x,block_out, numb_filter = [256,128]):\n",
        "  x = concatenate([x, block_out])\n",
        "  x = Conv2D(numb_filter[0], (3, 3), padding='same')(x)\n",
        "  x = BatchNormalization()(x)\n",
        "  x = Activation('relu')(x)\n",
        "\n",
        "  x = Conv2D(numb_filter[0], (3, 3), padding='same')(x)\n",
        "  x = BatchNormalization()(x)\n",
        "  x = Activation('relu')(x)\n",
        "\n",
        "  # UP\n",
        "  x = Conv2DTranspose(numb_filter[1], (2, 2), strides=(2, 2), padding='same')(x)\n",
        "  x = BatchNormalization()(x)\n",
        "  x = Activation('relu')(x)\n",
        "  return x"
      ]
    },
    {
      "cell_type": "code",
      "execution_count": null,
      "metadata": {
        "id": "OiGBGPI-5GBk"
      },
      "outputs": [],
      "source": [
        "def unet_pre_train(num_classes = 13, input_shape= (200, 600, 3)):\n",
        "    pre_trained_model = VGG16(input_shape=input_shape, include_top=False, weights=\"imagenet\")\n",
        "\n",
        "    for layer in pre_trained_model.layers[:18]:\n",
        "      layer.trainable = False\n",
        "    x = pre_trained_model.layers[13].output # конец сверток\n",
        "    block_4_out = pre_trained_model.layers[10].output\n",
        "    block_3_out = pre_trained_model.layers[6].output\n",
        "    block_2_out = pre_trained_model.layers[3].output # первое уменьшение размера\n",
        "    img_input = pre_trained_model.inputs\n",
        "    print(block_4_out)\n",
        "    print(block_3_out)\n",
        "    print(block_2_out)\n",
        "    # UP 1\n",
        "\n",
        "    # добавили перенос из понижаюшего плеча VGG16\n",
        "    x = bloc_transpose(x, block_4_out, numb_filter = [256,128])\n",
        "\n",
        "\n",
        "    # добавили перенос из понижаюшего плеча VGG16\n",
        "    x = bloc_transpose(x,block_3_out, numb_filter = [128,64])\n",
        "\n",
        "\n",
        "    # UP 3\n",
        "\n",
        "\n",
        "    # добавили перенос из понижаюшего плеча VGG16\n",
        "    x = bloc_transpose(x,block_2_out, numb_filter = [64,32])\n",
        "\n",
        "\n",
        "    # UP 4\n",
        "\n",
        "\n",
        "    #\n",
        "    x = Conv2D(64, (3, 3), padding='same')(x)\n",
        "    x = BatchNormalization()(x)\n",
        "    x = Activation('relu')(x)\n",
        "\n",
        "    x = Conv2D(num_classes, (3, 3), activation='softmax', padding='same')(x)\n",
        "\n",
        "    model = Model(img_input, x)\n",
        "    model.compile(optimizer=Adam(),\n",
        "                  loss='categorical_crossentropy',\n",
        "                  metrics=[dice_coef])\n",
        "    model.summary()\n",
        "    return model"
      ]
    },
    {
      "cell_type": "code",
      "execution_count": null,
      "metadata": {
        "id": "1CF2cYvU5GBl",
        "outputId": "68e2d85d-c597-4632-923a-52b551330778"
      },
      "outputs": [
        {
          "name": "stdout",
          "output_type": "stream",
          "text": [
            "KerasTensor(type_spec=TensorSpec(shape=(None, 25, 75, 256), dtype=tf.float32, name=None), name='block3_pool/MaxPool:0', description=\"created by layer 'block3_pool'\")\n",
            "KerasTensor(type_spec=TensorSpec(shape=(None, 50, 150, 128), dtype=tf.float32, name=None), name='block2_pool/MaxPool:0', description=\"created by layer 'block2_pool'\")\n",
            "KerasTensor(type_spec=TensorSpec(shape=(None, 100, 300, 64), dtype=tf.float32, name=None), name='block1_pool/MaxPool:0', description=\"created by layer 'block1_pool'\")\n",
            "Model: \"model_5\"\n",
            "__________________________________________________________________________________________________\n",
            " Layer (type)                   Output Shape         Param #     Connected to                     \n",
            "==================================================================================================\n",
            " input_7 (InputLayer)           [(None, 200, 600, 3  0           []                               \n",
            "                                )]                                                                \n",
            "                                                                                                  \n",
            " block1_conv1 (Conv2D)          (None, 200, 600, 64  1792        ['input_7[0][0]']                \n",
            "                                )                                                                 \n",
            "                                                                                                  \n",
            " block1_conv2 (Conv2D)          (None, 200, 600, 64  36928       ['block1_conv1[0][0]']           \n",
            "                                )                                                                 \n",
            "                                                                                                  \n",
            " block1_pool (MaxPooling2D)     (None, 100, 300, 64  0           ['block1_conv2[0][0]']           \n",
            "                                )                                                                 \n",
            "                                                                                                  \n",
            " block2_conv1 (Conv2D)          (None, 100, 300, 12  73856       ['block1_pool[0][0]']            \n",
            "                                8)                                                                \n",
            "                                                                                                  \n",
            " block2_conv2 (Conv2D)          (None, 100, 300, 12  147584      ['block2_conv1[0][0]']           \n",
            "                                8)                                                                \n",
            "                                                                                                  \n",
            " block2_pool (MaxPooling2D)     (None, 50, 150, 128  0           ['block2_conv2[0][0]']           \n",
            "                                )                                                                 \n",
            "                                                                                                  \n",
            " block3_conv1 (Conv2D)          (None, 50, 150, 256  295168      ['block2_pool[0][0]']            \n",
            "                                )                                                                 \n",
            "                                                                                                  \n",
            " block3_conv2 (Conv2D)          (None, 50, 150, 256  590080      ['block3_conv1[0][0]']           \n",
            "                                )                                                                 \n",
            "                                                                                                  \n",
            " block3_conv3 (Conv2D)          (None, 50, 150, 256  590080      ['block3_conv2[0][0]']           \n",
            "                                )                                                                 \n",
            "                                                                                                  \n",
            " block3_pool (MaxPooling2D)     (None, 25, 75, 256)  0           ['block3_conv3[0][0]']           \n",
            "                                                                                                  \n",
            " block4_conv1 (Conv2D)          (None, 25, 75, 512)  1180160     ['block3_pool[0][0]']            \n",
            "                                                                                                  \n",
            " block4_conv2 (Conv2D)          (None, 25, 75, 512)  2359808     ['block4_conv1[0][0]']           \n",
            "                                                                                                  \n",
            " block4_conv3 (Conv2D)          (None, 25, 75, 512)  2359808     ['block4_conv2[0][0]']           \n",
            "                                                                                                  \n",
            " concatenate_15 (Concatenate)   (None, 25, 75, 768)  0           ['block4_conv3[0][0]',           \n",
            "                                                                  'block3_pool[0][0]']            \n",
            "                                                                                                  \n",
            " conv2d_35 (Conv2D)             (None, 25, 75, 256)  1769728     ['concatenate_15[0][0]']         \n",
            "                                                                                                  \n",
            " batch_normalization_95 (BatchN  (None, 25, 75, 256)  1024       ['conv2d_35[0][0]']              \n",
            " ormalization)                                                                                    \n",
            "                                                                                                  \n",
            " activation_95 (Activation)     (None, 25, 75, 256)  0           ['batch_normalization_95[0][0]'] \n",
            "                                                                                                  \n",
            " conv2d_36 (Conv2D)             (None, 25, 75, 256)  590080      ['activation_95[0][0]']          \n",
            "                                                                                                  \n",
            " batch_normalization_96 (BatchN  (None, 25, 75, 256)  1024       ['conv2d_36[0][0]']              \n",
            " ormalization)                                                                                    \n",
            "                                                                                                  \n",
            " activation_96 (Activation)     (None, 25, 75, 256)  0           ['batch_normalization_96[0][0]'] \n",
            "                                                                                                  \n",
            " conv2d_transpose_15 (Conv2DTra  (None, 50, 150, 128  131200     ['activation_96[0][0]']          \n",
            " nspose)                        )                                                                 \n",
            "                                                                                                  \n",
            " batch_normalization_97 (BatchN  (None, 50, 150, 128  512        ['conv2d_transpose_15[0][0]']    \n",
            " ormalization)                  )                                                                 \n",
            "                                                                                                  \n",
            " activation_97 (Activation)     (None, 50, 150, 128  0           ['batch_normalization_97[0][0]'] \n",
            "                                )                                                                 \n",
            "                                                                                                  \n",
            " concatenate_16 (Concatenate)   (None, 50, 150, 256  0           ['activation_97[0][0]',          \n",
            "                                )                                 'block2_pool[0][0]']            \n",
            "                                                                                                  \n",
            " conv2d_37 (Conv2D)             (None, 50, 150, 128  295040      ['concatenate_16[0][0]']         \n",
            "                                )                                                                 \n",
            "                                                                                                  \n",
            " batch_normalization_98 (BatchN  (None, 50, 150, 128  512        ['conv2d_37[0][0]']              \n",
            " ormalization)                  )                                                                 \n",
            "                                                                                                  \n",
            " activation_98 (Activation)     (None, 50, 150, 128  0           ['batch_normalization_98[0][0]'] \n",
            "                                )                                                                 \n"
          ]
        },
        {
          "name": "stdout",
          "output_type": "stream",
          "text": [
            "                                                                                                  \n",
            " conv2d_38 (Conv2D)             (None, 50, 150, 128  147584      ['activation_98[0][0]']          \n",
            "                                )                                                                 \n",
            "                                                                                                  \n",
            " batch_normalization_99 (BatchN  (None, 50, 150, 128  512        ['conv2d_38[0][0]']              \n",
            " ormalization)                  )                                                                 \n",
            "                                                                                                  \n",
            " activation_99 (Activation)     (None, 50, 150, 128  0           ['batch_normalization_99[0][0]'] \n",
            "                                )                                                                 \n",
            "                                                                                                  \n",
            " conv2d_transpose_16 (Conv2DTra  (None, 100, 300, 64  32832      ['activation_99[0][0]']          \n",
            " nspose)                        )                                                                 \n",
            "                                                                                                  \n",
            " batch_normalization_100 (Batch  (None, 100, 300, 64  256        ['conv2d_transpose_16[0][0]']    \n",
            " Normalization)                 )                                                                 \n",
            "                                                                                                  \n",
            " activation_100 (Activation)    (None, 100, 300, 64  0           ['batch_normalization_100[0][0]']\n",
            "                                )                                                                 \n",
            "                                                                                                  \n",
            " concatenate_17 (Concatenate)   (None, 100, 300, 12  0           ['activation_100[0][0]',         \n",
            "                                8)                                'block1_pool[0][0]']            \n",
            "                                                                                                  \n",
            " conv2d_39 (Conv2D)             (None, 100, 300, 64  73792       ['concatenate_17[0][0]']         \n",
            "                                )                                                                 \n",
            "                                                                                                  \n",
            " batch_normalization_101 (Batch  (None, 100, 300, 64  256        ['conv2d_39[0][0]']              \n",
            " Normalization)                 )                                                                 \n",
            "                                                                                                  \n",
            " activation_101 (Activation)    (None, 100, 300, 64  0           ['batch_normalization_101[0][0]']\n",
            "                                )                                                                 \n",
            "                                                                                                  \n",
            " conv2d_40 (Conv2D)             (None, 100, 300, 64  36928       ['activation_101[0][0]']         \n",
            "                                )                                                                 \n",
            "                                                                                                  \n",
            " batch_normalization_102 (Batch  (None, 100, 300, 64  256        ['conv2d_40[0][0]']              \n",
            " Normalization)                 )                                                                 \n",
            "                                                                                                  \n",
            " activation_102 (Activation)    (None, 100, 300, 64  0           ['batch_normalization_102[0][0]']\n",
            "                                )                                                                 \n",
            "                                                                                                  \n",
            " conv2d_transpose_17 (Conv2DTra  (None, 200, 600, 32  8224       ['activation_102[0][0]']         \n",
            " nspose)                        )                                                                 \n",
            "                                                                                                  \n",
            " batch_normalization_103 (Batch  (None, 200, 600, 32  128        ['conv2d_transpose_17[0][0]']    \n",
            " Normalization)                 )                                                                 \n",
            "                                                                                                  \n",
            " activation_103 (Activation)    (None, 200, 600, 32  0           ['batch_normalization_103[0][0]']\n",
            "                                )                                                                 \n",
            "                                                                                                  \n",
            " conv2d_41 (Conv2D)             (None, 200, 600, 64  18496       ['activation_103[0][0]']         \n",
            "                                )                                                                 \n",
            "                                                                                                  \n",
            " batch_normalization_104 (Batch  (None, 200, 600, 64  256        ['conv2d_41[0][0]']              \n",
            " Normalization)                 )                                                                 \n",
            "                                                                                                  \n",
            " activation_104 (Activation)    (None, 200, 600, 64  0           ['batch_normalization_104[0][0]']\n",
            "                                )                                                                 \n",
            "                                                                                                  \n",
            " conv2d_42 (Conv2D)             (None, 200, 600, 2)  1154        ['activation_104[0][0]']         \n",
            "                                                                                                  \n",
            "==================================================================================================\n",
            "Total params: 10,745,058\n",
            "Trainable params: 3,107,426\n",
            "Non-trainable params: 7,637,632\n",
            "__________________________________________________________________________________________________\n",
            "You must install pydot (`pip install pydot`) and install graphviz (see instructions at https://graphviz.gitlab.io/download/) for plot_model to work.\n"
          ]
        }
      ],
      "source": [
        "modelU = unet_pre_train(num_classes = 2, input_shape= (200, 600, 3))\n",
        "\n",
        "plot_model(modelU, to_file='modelU.png')"
      ]
    },
    {
      "cell_type": "code",
      "execution_count": null,
      "metadata": {
        "id": "aVHJshrF5GBl",
        "outputId": "4cf5aeb5-8965-4dbd-cf0a-71fea7935182"
      },
      "outputs": [
        {
          "name": "stdout",
          "output_type": "stream",
          "text": [
            "Epoch 1/30\n",
            "27/27 [==============================] - 102s 4s/step - loss: 0.2366 - dice_coef: 0.8626 - val_loss: 0.2610 - val_dice_coef: 0.8891\n",
            "Epoch 2/30\n",
            "27/27 [==============================] - 99s 4s/step - loss: 0.0917 - dice_coef: 0.9440 - val_loss: 0.4493 - val_dice_coef: 0.8692\n",
            "Epoch 3/30\n",
            "27/27 [==============================] - 99s 4s/step - loss: 0.0438 - dice_coef: 0.9746 - val_loss: 0.4041 - val_dice_coef: 0.8782\n",
            "Epoch 4/30\n",
            "27/27 [==============================] - 99s 4s/step - loss: 0.0288 - dice_coef: 0.9829 - val_loss: 0.1245 - val_dice_coef: 0.9425\n",
            "Epoch 5/30\n",
            "27/27 [==============================] - 99s 4s/step - loss: 0.0209 - dice_coef: 0.9876 - val_loss: 0.0489 - val_dice_coef: 0.9732\n",
            "Epoch 6/30\n",
            "27/27 [==============================] - 99s 4s/step - loss: 0.0167 - dice_coef: 0.9901 - val_loss: 0.0293 - val_dice_coef: 0.9833\n",
            "Epoch 7/30\n",
            "27/27 [==============================] - 99s 4s/step - loss: 0.0143 - dice_coef: 0.9916 - val_loss: 0.0201 - val_dice_coef: 0.9876\n",
            "Epoch 8/30\n",
            "27/27 [==============================] - 99s 4s/step - loss: 0.0124 - dice_coef: 0.9926 - val_loss: 0.0147 - val_dice_coef: 0.9903\n",
            "Epoch 9/30\n",
            "27/27 [==============================] - 99s 4s/step - loss: 0.0121 - dice_coef: 0.9931 - val_loss: 0.0336 - val_dice_coef: 0.9841\n",
            "Epoch 10/30\n",
            "27/27 [==============================] - 99s 4s/step - loss: 0.0116 - dice_coef: 0.9932 - val_loss: 0.0113 - val_dice_coef: 0.9931\n",
            "Epoch 11/30\n",
            "27/27 [==============================] - 99s 4s/step - loss: 0.0108 - dice_coef: 0.9936 - val_loss: 0.0185 - val_dice_coef: 0.9898\n",
            "Epoch 12/30\n",
            "27/27 [==============================] - 99s 4s/step - loss: 0.0124 - dice_coef: 0.9929 - val_loss: 0.0115 - val_dice_coef: 0.9931\n",
            "Epoch 13/30\n",
            "27/27 [==============================] - 99s 4s/step - loss: 0.0097 - dice_coef: 0.9942 - val_loss: 0.0090 - val_dice_coef: 0.9945\n",
            "Epoch 14/30\n",
            "27/27 [==============================] - 99s 4s/step - loss: 0.0092 - dice_coef: 0.9946 - val_loss: 0.0158 - val_dice_coef: 0.9919\n",
            "Epoch 15/30\n",
            "27/27 [==============================] - 99s 4s/step - loss: 0.0087 - dice_coef: 0.9948 - val_loss: 0.0083 - val_dice_coef: 0.9948\n",
            "Epoch 16/30\n",
            "27/27 [==============================] - 100s 4s/step - loss: 0.0078 - dice_coef: 0.9953 - val_loss: 0.0090 - val_dice_coef: 0.9947\n",
            "Epoch 17/30\n",
            "27/27 [==============================] - 100s 4s/step - loss: 0.0075 - dice_coef: 0.9955 - val_loss: 0.0080 - val_dice_coef: 0.9951\n",
            "Epoch 18/30\n",
            "27/27 [==============================] - 99s 4s/step - loss: 0.0081 - dice_coef: 0.9952 - val_loss: 0.0227 - val_dice_coef: 0.9891\n",
            "Epoch 19/30\n",
            "27/27 [==============================] - 100s 4s/step - loss: 0.0073 - dice_coef: 0.9955 - val_loss: 0.0071 - val_dice_coef: 0.9955\n",
            "Epoch 20/30\n",
            "27/27 [==============================] - 99s 4s/step - loss: 0.0077 - dice_coef: 0.9955 - val_loss: 0.0079 - val_dice_coef: 0.9955\n",
            "Epoch 21/30\n",
            "27/27 [==============================] - 100s 4s/step - loss: 0.0076 - dice_coef: 0.9954 - val_loss: 0.0070 - val_dice_coef: 0.9957\n",
            "Epoch 22/30\n",
            "27/27 [==============================] - 99s 4s/step - loss: 0.0064 - dice_coef: 0.9961 - val_loss: 0.0074 - val_dice_coef: 0.9955\n",
            "Epoch 23/30\n",
            "27/27 [==============================] - 100s 4s/step - loss: 0.0061 - dice_coef: 0.9962 - val_loss: 0.0095 - val_dice_coef: 0.9951\n",
            "Epoch 24/30\n",
            "27/27 [==============================] - 99s 4s/step - loss: 0.0061 - dice_coef: 0.9963 - val_loss: 0.0071 - val_dice_coef: 0.9958\n",
            "Epoch 25/30\n",
            "27/27 [==============================] - 100s 4s/step - loss: 0.0057 - dice_coef: 0.9965 - val_loss: 0.0061 - val_dice_coef: 0.9965\n",
            "Epoch 26/30\n",
            "27/27 [==============================] - 100s 4s/step - loss: 0.0057 - dice_coef: 0.9965 - val_loss: 0.0128 - val_dice_coef: 0.9943\n",
            "Epoch 27/30\n",
            "27/27 [==============================] - 100s 4s/step - loss: 0.0056 - dice_coef: 0.9966 - val_loss: 0.0063 - val_dice_coef: 0.9965\n",
            "Epoch 28/30\n",
            "27/27 [==============================] - 99s 4s/step - loss: 0.0053 - dice_coef: 0.9967 - val_loss: 0.0052 - val_dice_coef: 0.9968\n",
            "Epoch 29/30\n",
            "27/27 [==============================] - 99s 4s/step - loss: 0.0052 - dice_coef: 0.9968 - val_loss: 0.0074 - val_dice_coef: 0.9961\n",
            "Epoch 30/30\n",
            "27/27 [==============================] - 99s 4s/step - loss: 0.0054 - dice_coef: 0.9968 - val_loss: 0.0050 - val_dice_coef: 0.9969\n"
          ]
        }
      ],
      "source": [
        "historyU = modelU.fit(xTrain, yTrain, epochs=30, batch_size=3,\n",
        "                      validation_data=(xTrain, yTrain),\n",
        "                      callbacks = [tf.keras.callbacks.EarlyStopping( patience=5 )])"
      ]
    },
    {
      "cell_type": "code",
      "execution_count": null,
      "metadata": {
        "id": "QCit5WDT5GBl",
        "outputId": "1f704014-ff0a-400f-e3a3-1bd746cd8bf9"
      },
      "outputs": [
        {
          "data": {
            "image/png": "[encoded data removed]",
            "text/plain": [
              "<Figure size 640x480 with 1 Axes>"
            ]
          },
          "metadata": {},
          "output_type": "display_data"
        }
      ],
      "source": [
        "plt.plot(historyU.history['val_dice_coef'],label = 'test')\n",
        "plt.plot(historyU.history['dice_coef'],label='train')\n",
        "plt.legend()\n",
        "plt.xlabel('epoch')\n",
        "plt.ylabel('dice_coef')\n",
        "plt.show()"
      ]
    },
    {
      "cell_type": "markdown",
      "metadata": {
        "id": "ectPhrga5GBl"
      },
      "source": [
        "**Вывод**"
      ]
    },
    {
      "cell_type": "markdown",
      "metadata": {
        "id": "yqiQzGad5GBl"
      },
      "source": [
        "Претренированная модель показывает лучшие результаты (более гладкая кривая обучения)."
      ]
    }
  ],
  "metadata": {
    "colab": {
      "provenance": [],
      "include_colab_link": true
    },
    "kernelspec": {
      "display_name": "Python 3 (ipykernel)",
      "language": "python",
      "name": "python3"
    },
    "language_info": {
      "codemirror_mode": {
        "name": "ipython",
        "version": 3
      },
      "file_extension": ".py",
      "mimetype": "text/x-python",
      "name": "python",
      "nbconvert_exporter": "python",
      "pygments_lexer": "ipython3",
      "version": "3.9.16"
    }
  },
  "nbformat": 4,
  "nbformat_minor": 0
}