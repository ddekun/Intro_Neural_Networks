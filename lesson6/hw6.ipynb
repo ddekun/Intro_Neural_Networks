{
  "cells": [
    {
      "cell_type": "markdown",
      "metadata": {
        "id": "view-in-github",
        "colab_type": "text"
      },
      "source": [
        "<a href=\"https://colab.research.google.com/github/ddekun/Intro_Neural_Networks/blob/lesson6/lesson6/hw6.ipynb\" target=\"_parent\"><img src=\"https://colab.research.google.com/assets/colab-badge.svg\" alt=\"Open In Colab\"/></a>"
      ]
    },
    {
      "cell_type": "markdown",
      "metadata": {
        "id": "gbC7FamXxkHi"
      },
      "source": [
        "# Введение в нейронные сети"
      ]
    },
    {
      "cell_type": "markdown",
      "metadata": {
        "id": "ryGz2LT0xnt3"
      },
      "source": [
        "### Урок 6. Сегментация"
      ]
    },
    {
      "cell_type": "markdown",
      "metadata": {
        "id": "fYrmvCHpxwTS"
      },
      "source": [
        "1. Попробуйте обучить нейронную сеть U-Net на любом другом датасете. Напишите в комментариях к уроку, какого результата вы добились от нейросети, что помогло улучшить её точность?\n",
        "2. Попробуйте свои силы в задаче Carvana на Kaggle: https://www.kaggle.com/c/carvana-image-masking-challenge/overview"
      ]
    },
    {
      "cell_type": "code",
      "execution_count": null,
      "metadata": {
        "id": "0k09L98sxh1B"
      },
      "outputs": [],
      "source": [
        "from tensorflow.keras.models import Model\n",
        "from tensorflow.keras.datasets import mnist\n",
        "from tensorflow.keras.layers import Input, Conv2DTranspose, concatenate, Activation, MaxPooling2D, Conv2D, BatchNormalization\n",
        "from tensorflow.keras import backend as K\n",
        "from tensorflow.keras.optimizers import Adam\n",
        "from tensorflow.keras import utils\n",
        "import matplotlib.pyplot as plt\n",
        "from tensorflow.keras.preprocessing import image\n",
        "from tensorflow.keras.applications import VGG16\n",
        "from tensorflow.keras.utils import plot_model\n",
        "import numpy as np\n",
        "from PIL import Image\n",
        "import tensorflow as tf\n",
        "import cv2\n",
        "import os, fnmatch"
      ]
    },
    {
      "cell_type": "code",
      "execution_count": null,
      "metadata": {
        "id": "SAgB1cTJx2Ij"
      },
      "outputs": [],
      "source": [
        "# Это наша метрика на Tensorflow\n",
        "\n",
        "def dice_coef(y_true, y_pred):\n",
        "    return (2. * K.sum(y_true * y_pred) + 1.) / (K.sum(y_true) + K.sum(y_pred) + 1.)"
      ]
    },
    {
      "cell_type": "markdown",
      "metadata": {
        "id": "JrBHC914x4k-"
      },
      "source": [
        "**Загрузка данных**"
      ]
    },
    {
      "cell_type": "code",
      "execution_count": null,
      "metadata": {
        "id": "1S378Sl1x6ar"
      },
      "outputs": [],
      "source": [
        "PAHT_label = 'train_masks/'\n",
        "PAHT_image = 'train/'"
      ]
    },
    {
      "cell_type": "code",
      "execution_count": null,
      "metadata": {
        "id": "dGEIr4jP9sY8"
      },
      "outputs": [],
      "source": [
        "imag_label = os.listdir(PAHT_label)\n",
        "imag = os.listdir(PAHT_image)"
      ]
    },
    {
      "cell_type": "code",
      "execution_count": null,
      "metadata": {
        "id": "qv_9iFK09sY8",
        "outputId": "5a8c4938-98a0-4c7c-abc9-01c2f1887c9c"
      },
      "outputs": [
        {
          "data": {
            "text/plain": [
              "['00087a6bd4dc_01.jpg',\n",
              " '00087a6bd4dc_02.jpg',\n",
              " '00087a6bd4dc_03.jpg',\n",
              " '00087a6bd4dc_04.jpg',\n",
              " '00087a6bd4dc_05.jpg',\n",
              " '00087a6bd4dc_06.jpg',\n",
              " '00087a6bd4dc_07.jpg',\n",
              " '00087a6bd4dc_08.jpg',\n",
              " '00087a6bd4dc_09.jpg',\n",
              " '00087a6bd4dc_10.jpg']"
            ]
          },
          "execution_count": 5,
          "metadata": {},
          "output_type": "execute_result"
        }
      ],
      "source": [
        "imag.sort()\n",
        "imag[:10]"
      ]
    },
    {
      "cell_type": "code",
      "execution_count": null,
      "metadata": {
        "id": "xzr9Mss_9sY9",
        "outputId": "e0ff9748-930a-4727-cc16-01afd3a6082b"
      },
      "outputs": [
        {
          "data": {
            "text/plain": [
              "['00087a6bd4dc_01_mask.gif',\n",
              " '00087a6bd4dc_02_mask.gif',\n",
              " '00087a6bd4dc_03_mask.gif',\n",
              " '00087a6bd4dc_04_mask.gif',\n",
              " '00087a6bd4dc_05_mask.gif',\n",
              " '00087a6bd4dc_06_mask.gif',\n",
              " '00087a6bd4dc_07_mask.gif',\n",
              " '00087a6bd4dc_08_mask.gif',\n",
              " '00087a6bd4dc_09_mask.gif',\n",
              " '00087a6bd4dc_10_mask.gif']"
            ]
          },
          "execution_count": 6,
          "metadata": {},
          "output_type": "execute_result"
        }
      ],
      "source": [
        "imag_label.sort()\n",
        "imag_label[:10]"
      ]
    },
    {
      "cell_type": "code",
      "execution_count": null,
      "metadata": {
        "id": "o_hI36s39sY-",
        "outputId": "4303a4a7-9258-48ad-afd5-084f84b25c09"
      },
      "outputs": [
        {
          "data": {
            "text/plain": [
              "5088"
            ]
          },
          "execution_count": 7,
          "metadata": {},
          "output_type": "execute_result"
        }
      ],
      "source": [
        "len(imag)"
      ]
    },
    {
      "cell_type": "code",
      "execution_count": null,
      "metadata": {
        "id": "OUfvCxlO9sY-"
      },
      "outputs": [],
      "source": [
        "images = []\n",
        "segments = []\n",
        "image_size = (200,600)\n",
        "for i_name in imag[:100]:\n",
        "  images.append(image.load_img(PAHT_image+i_name ,target_size=image_size))\n",
        "\n",
        "for i_name in imag_label[:100]:\n",
        "  segments.append(image.load_img(PAHT_label+i_name, target_size=image_size))"
      ]
    },
    {
      "cell_type": "code",
      "execution_count": null,
      "metadata": {
        "id": "BRT_v83C9sY-",
        "outputId": "a6c1c6ec-20a6-4d7b-b707-ba1bd4da1369"
      },
      "outputs": [
        {
          "data": {
            "image/png": "[encoded data removed]",
            "text/plain": [
              "<Figure size 640x480 with 1 Axes>"
            ]
          },
          "metadata": {},
          "output_type": "display_data"
        }
      ],
      "source": [
        "def Color2index(y):\n",
        "  arr_col=[[255,255,255],[0,0,0]]\n",
        "  y_ind = np.zeros((y.shape[0],y.shape[1]))\n",
        "  y_cat = np.zeros((y.shape[0],y.shape[1], len(arr_col)))\n",
        "  i = 1\n",
        "  for i_color in arr_col:\n",
        "    ind_i = np.where((y[:,:,0]==i_color[0])&(y[:,:,1]==i_color[1])&(y[:,:,2]==i_color[2]))\n",
        "    y_ind[ind_i[0],ind_i[1]] = i\n",
        "    y_cat[ind_i[0],ind_i[1], i-1] = 1\n",
        "    i += 1\n",
        "\n",
        "  return y_cat, y_ind, i-1\n",
        "cat_yi,ind_yi,h = Color2index(image.img_to_array(segments[0]))\n",
        "plt.imshow(ind_yi.astype(float)/h)\n",
        "plt.show()"
      ]
    },
    {
      "cell_type": "code",
      "execution_count": null,
      "metadata": {
        "id": "ru4FuPmq9sY-",
        "outputId": "8fbe8d65-3f59-4067-9bfa-3904085ef306"
      },
      "outputs": [
        {
          "name": "stdout",
          "output_type": "stream",
          "text": [
            "(80, 200, 600, 3)\n",
            "(80, 200, 600, 2)\n"
          ]
        }
      ],
      "source": [
        "# входные данные\n",
        "xTrain_Test = []\n",
        "\n",
        "for img in images:\n",
        "  x = image.img_to_array(img)\n",
        "  xTrain_Test.append(x)\n",
        "\n",
        "xTrain_Test = np.array(xTrain_Test)\n",
        "\n",
        "yTrain_Test = []\n",
        "\n",
        "for seg in segments:\n",
        "  y_cat,_,_ = Color2index(image.img_to_array(seg))\n",
        "  yTrain_Test.append(y_cat)\n",
        "\n",
        "yTrain_Test = np.array(yTrain_Test)\n",
        "\n",
        "# print(xTrain_Test.shape)\n",
        "\n",
        "# print(yTrain_Test.shape)\n",
        "\n",
        "N = int(xTrain_Test.shape[0]*.8)\n",
        "\n",
        "yTrain = yTrain_Test[:N,:,:,:]\n",
        "xTrain = xTrain_Test[:N,:,:,:]\n",
        "\n",
        "yTest = yTrain_Test[N:,:,:,:]\n",
        "xTest = xTrain_Test[N:,:,:,:]\n",
        "\n",
        "print(xTrain.shape)\n",
        "print(yTrain.shape)"
      ]
    },
    {
      "cell_type": "markdown",
      "metadata": {
        "id": "pWw43vIx9sZA"
      },
      "source": [
        "**Модель**"
      ]
    },
    {
      "cell_type": "code",
      "execution_count": null,
      "metadata": {
        "id": "g_xJGQn29sZA"
      },
      "outputs": [],
      "source": [
        "def Unet(num_classes = 14, input_shape= (200, 600, 3)):\n",
        "    img_input = Input(input_shape)\n",
        "\n",
        "    # Block 1\n",
        "    x = Conv2D(64, (3, 3), padding='same', name='block1_conv1')(img_input)\n",
        "    x = BatchNormalization()(x)\n",
        "    x = Activation('relu')(x)\n",
        "\n",
        "    x = Conv2D(64, (3, 3), padding='same', name='block1_conv2')(x)\n",
        "    x = BatchNormalization()(x)\n",
        "    # запомним тензор для переноса\n",
        "    block_1_out = Activation('relu')(x)\n",
        "\n",
        "    x = MaxPooling2D()(block_1_out) # 100x300\n",
        "\n",
        "    # Block 2\n",
        "    x = Conv2D(128, (3, 3), padding='same', name='block2_conv1')(x)\n",
        "    x = BatchNormalization()(x)\n",
        "    x = Activation('relu')(x)\n",
        "\n",
        "    x = Conv2D(128, (3, 3), padding='same', name='block2_conv2')(x)\n",
        "    x = BatchNormalization()(x)\n",
        "    # запомним тензор для переноса\n",
        "    block_2_out = Activation('relu')(x)\n",
        "\n",
        "    x = MaxPooling2D()(block_2_out) # 50x150\n",
        "\n",
        "    # Block 3\n",
        "    x = Conv2D(256, (3, 3), padding='same', name='block3_conv1')(x)\n",
        "    x = BatchNormalization()(x)\n",
        "    x = Activation('relu')(x)\n",
        "\n",
        "    x = Conv2D(256, (3, 3), padding='same', name='block3_conv2')(x)\n",
        "    x = BatchNormalization()(x)\n",
        "    x = Activation('relu')(x)\n",
        "\n",
        "    x = Conv2D(256, (3, 3), padding='same', name='block3_conv3')(x)\n",
        "    x = BatchNormalization()(x)\n",
        "    # запомним тензор для переноса\n",
        "    block_3_out = Activation('relu')(x)\n",
        "\n",
        "    x = MaxPooling2D()(block_3_out) #25x75\n",
        "\n",
        "    # Block 4\n",
        "    x = Conv2D(512, (3, 3), padding='same', name='block4_conv1')(x)\n",
        "    x = BatchNormalization()(x)\n",
        "    x = Activation('relu')(x)\n",
        "\n",
        "    x = Conv2D(512, (3, 3), padding='same', name='block4_conv2')(x)\n",
        "    x = BatchNormalization()(x)\n",
        "    x = Activation('relu')(x)\n",
        "\n",
        "    x = Conv2D(512, (3, 3), padding='same', name='block4_conv3')(x)\n",
        "    x = BatchNormalization()(x)\n",
        "    # запомним тензор для переноса\n",
        "    block_4_out = Activation('relu')(x)\n",
        "\n",
        "    #x = MaxPooling2D()(block_4_out)\n",
        "\n",
        "    # Block 5\n",
        "    #x = Conv2D(512, (3, 3), padding='same', name='block5_conv1')(x)\n",
        "    #x = BatchNormalization()(x)\n",
        "    #x = Activation('relu')(x)\n",
        "\n",
        "    #x = Conv2D(512, (3, 3), padding='same', name='block5_conv2')(x)\n",
        "    #x = BatchNormalization()(x)\n",
        "    #x = Activation('relu')(x)\n",
        "\n",
        "    #x = Conv2D(512, (3, 3), padding='same', name='block5_conv3')(x)\n",
        "    #x = BatchNormalization()(x)\n",
        "    #x = Activation('relu')(x)\n",
        "\n",
        "\n",
        "    # Load pretrained weights.\n",
        "    #for_pretrained_weight = MaxPooling2D()(x)\n",
        "    #vgg16 = Model(img_input, for_pretrained_weight)\n",
        "    #vgg16.load_weights('vgg16_weights_tf_dim_ordering_tf_kernels_notop.h5', by_name=True)\n",
        "\n",
        "    # UP 1\n",
        "    #x = Conv2DTranspose(512, (2, 2), strides=(2, 2), padding='same')(x)\n",
        "    #x = BatchNormalization()(x)\n",
        "    #x = Activation('relu')(x)\n",
        "\n",
        "    #x = concatenate([x, block_4_out])\n",
        "    #x = Conv2D(512, (3, 3), padding='same')(x)\n",
        "    #x = BatchNormalization()(x)\n",
        "    #x = Activation('relu')(x)\n",
        "\n",
        "    #x = Conv2D(512, (3, 3), padding='same')(x)\n",
        "    #x = BatchNormalization()(x)\n",
        "    #x = Activation('relu')(x)\n",
        "\n",
        "    # UP 2\n",
        "    x = Conv2DTranspose(256, (2, 2), strides=(2, 2), padding='same')(x) #50x150\n",
        "    x = BatchNormalization()(x)\n",
        "    x = Activation('relu')(x)\n",
        "\n",
        "    # добавили перенос из понижаюшего плеча\n",
        "    x = concatenate([x, block_3_out])\n",
        "    x = Conv2D(256, (3, 3), padding='same')(x)\n",
        "    x = BatchNormalization()(x)\n",
        "    x = Activation('relu')(x)\n",
        "\n",
        "    x = Conv2D(256, (3, 3), padding='same')(x)\n",
        "    x = BatchNormalization()(x)\n",
        "    x = Activation('relu')(x)\n",
        "\n",
        "    # UP 3\n",
        "    x = Conv2DTranspose(128, (2, 2), strides=(2, 2), padding='same')(x) # 100x300\n",
        "    x = BatchNormalization()(x)\n",
        "    x = Activation('relu')(x)\n",
        "\n",
        "    # добавили перенос из понижаюшего плеча\n",
        "    x = concatenate([x, block_2_out])\n",
        "    x = Conv2D(128, (3, 3), padding='same')(x)\n",
        "    x = BatchNormalization()(x)\n",
        "    x = Activation('relu')(x)\n",
        "\n",
        "    x = Conv2D(128, (3, 3), padding='same')(x)\n",
        "    x = BatchNormalization()(x)\n",
        "    x = Activation('relu')(x)\n",
        "\n",
        "    # UP 4\n",
        "    x = Conv2DTranspose(64, (2, 2), strides=(2, 2), padding='same')(x) # 200x600\n",
        "    x = BatchNormalization()(x)\n",
        "    x = Activation('relu')(x)\n",
        "\n",
        "    # добавили перенос из понижаюшего плеча\n",
        "    x = concatenate([x, block_1_out])\n",
        "    x = Conv2D(64, (3, 3), padding='same')(x)\n",
        "    x = BatchNormalization()(x)\n",
        "    x = Activation('relu')(x)\n",
        "\n",
        "    x = Conv2D(64, (3, 3), padding='same')(x)\n",
        "    x = BatchNormalization()(x)\n",
        "    x = Activation('relu')(x)\n",
        "\n",
        "    # слой классификатор\n",
        "    x = Conv2D(num_classes, (3, 3), activation='softmax', padding='same')(x)\n",
        "\n",
        "    model = Model(img_input, x)\n",
        "    model.compile(optimizer=Adam(),\n",
        "                  loss='categorical_crossentropy',\n",
        "                  metrics=[dice_coef])\n",
        "    model.summary()\n",
        "    return model"
      ]
    },
    {
      "cell_type": "code",
      "execution_count": null,
      "metadata": {
        "id": "jiRr74TO9sZA",
        "outputId": "9afe0f03-e685-4057-a452-b3e99f37800c"
      },
      "outputs": [
        {
          "name": "stdout",
          "output_type": "stream",
          "text": [
            "Model: \"model_3\"\n",
            "__________________________________________________________________________________________________\n",
            " Layer (type)                   Output Shape         Param #     Connected to                     \n",
            "==================================================================================================\n",
            " input_4 (InputLayer)           [(None, 200, 600, 3  0           []                               \n",
            "                                )]                                                                \n",
            "                                                                                                  \n",
            " block1_conv1 (Conv2D)          (None, 200, 600, 64  1792        ['input_4[0][0]']                \n",
            "                                )                                                                 \n",
            "                                                                                                  \n",
            " batch_normalization_57 (BatchN  (None, 200, 600, 64  256        ['block1_conv1[0][0]']           \n",
            " ormalization)                  )                                                                 \n",
            "                                                                                                  \n",
            " activation_57 (Activation)     (None, 200, 600, 64  0           ['batch_normalization_57[0][0]'] \n",
            "                                )                                                                 \n",
            "                                                                                                  \n",
            " block1_conv2 (Conv2D)          (None, 200, 600, 64  36928       ['activation_57[0][0]']          \n",
            "                                )                                                                 \n",
            "                                                                                                  \n",
            " batch_normalization_58 (BatchN  (None, 200, 600, 64  256        ['block1_conv2[0][0]']           \n",
            " ormalization)                  )                                                                 \n",
            "                                                                                                  \n",
            " activation_58 (Activation)     (None, 200, 600, 64  0           ['batch_normalization_58[0][0]'] \n",
            "                                )                                                                 \n",
            "                                                                                                  \n",
            " max_pooling2d_9 (MaxPooling2D)  (None, 100, 300, 64  0          ['activation_58[0][0]']          \n",
            "                                )                                                                 \n",
            "                                                                                                  \n",
            " block2_conv1 (Conv2D)          (None, 100, 300, 12  73856       ['max_pooling2d_9[0][0]']        \n",
            "                                8)                                                                \n",
            "                                                                                                  \n",
            " batch_normalization_59 (BatchN  (None, 100, 300, 12  512        ['block2_conv1[0][0]']           \n",
            " ormalization)                  8)                                                                \n",
            "                                                                                                  \n",
            " activation_59 (Activation)     (None, 100, 300, 12  0           ['batch_normalization_59[0][0]'] \n",
            "                                8)                                                                \n",
            "                                                                                                  \n",
            " block2_conv2 (Conv2D)          (None, 100, 300, 12  147584      ['activation_59[0][0]']          \n",
            "                                8)                                                                \n",
            "                                                                                                  \n",
            " batch_normalization_60 (BatchN  (None, 100, 300, 12  512        ['block2_conv2[0][0]']           \n",
            " ormalization)                  8)                                                                \n",
            "                                                                                                  \n",
            " activation_60 (Activation)     (None, 100, 300, 12  0           ['batch_normalization_60[0][0]'] \n",
            "                                8)                                                                \n",
            "                                                                                                  \n",
            " max_pooling2d_10 (MaxPooling2D  (None, 50, 150, 128  0          ['activation_60[0][0]']          \n",
            " )                              )                                                                 \n",
            "                                                                                                  \n",
            " block3_conv1 (Conv2D)          (None, 50, 150, 256  295168      ['max_pooling2d_10[0][0]']       \n",
            "                                )                                                                 \n",
            "                                                                                                  \n",
            " batch_normalization_61 (BatchN  (None, 50, 150, 256  1024       ['block3_conv1[0][0]']           \n",
            " ormalization)                  )                                                                 \n",
            "                                                                                                  \n",
            " activation_61 (Activation)     (None, 50, 150, 256  0           ['batch_normalization_61[0][0]'] \n",
            "                                )                                                                 \n",
            "                                                                                                  \n",
            " block3_conv2 (Conv2D)          (None, 50, 150, 256  590080      ['activation_61[0][0]']          \n",
            "                                )                                                                 \n",
            "                                                                                                  \n",
            " batch_normalization_62 (BatchN  (None, 50, 150, 256  1024       ['block3_conv2[0][0]']           \n",
            " ormalization)                  )                                                                 \n",
            "                                                                                                  \n",
            " activation_62 (Activation)     (None, 50, 150, 256  0           ['batch_normalization_62[0][0]'] \n",
            "                                )                                                                 \n",
            "                                                                                                  \n",
            " block3_conv3 (Conv2D)          (None, 50, 150, 256  590080      ['activation_62[0][0]']          \n",
            "                                )                                                                 \n",
            "                                                                                                  \n",
            " batch_normalization_63 (BatchN  (None, 50, 150, 256  1024       ['block3_conv3[0][0]']           \n",
            " ormalization)                  )                                                                 \n",
            "                                                                                                  \n",
            " activation_63 (Activation)     (None, 50, 150, 256  0           ['batch_normalization_63[0][0]'] \n",
            "                                )                                                                 \n",
            "                                                                                                  \n",
            " max_pooling2d_11 (MaxPooling2D  (None, 25, 75, 256)  0          ['activation_63[0][0]']          \n",
            " )                                                                                                \n",
            "                                                                                                  \n",
            " block4_conv1 (Conv2D)          (None, 25, 75, 512)  1180160     ['max_pooling2d_11[0][0]']       \n",
            "                                                                                                  \n",
            " batch_normalization_64 (BatchN  (None, 25, 75, 512)  2048       ['block4_conv1[0][0]']           \n",
            " ormalization)                                                                                    \n",
            "                                                                                                  \n"
          ]
        },
        {
          "name": "stdout",
          "output_type": "stream",
          "text": [
            " activation_64 (Activation)     (None, 25, 75, 512)  0           ['batch_normalization_64[0][0]'] \n",
            "                                                                                                  \n",
            " block4_conv2 (Conv2D)          (None, 25, 75, 512)  2359808     ['activation_64[0][0]']          \n",
            "                                                                                                  \n",
            " batch_normalization_65 (BatchN  (None, 25, 75, 512)  2048       ['block4_conv2[0][0]']           \n",
            " ormalization)                                                                                    \n",
            "                                                                                                  \n",
            " activation_65 (Activation)     (None, 25, 75, 512)  0           ['batch_normalization_65[0][0]'] \n",
            "                                                                                                  \n",
            " block4_conv3 (Conv2D)          (None, 25, 75, 512)  2359808     ['activation_65[0][0]']          \n",
            "                                                                                                  \n",
            " batch_normalization_66 (BatchN  (None, 25, 75, 512)  2048       ['block4_conv3[0][0]']           \n",
            " ormalization)                                                                                    \n",
            "                                                                                                  \n",
            " conv2d_transpose_9 (Conv2DTran  (None, 50, 150, 256  524544     ['batch_normalization_66[0][0]'] \n",
            " spose)                         )                                                                 \n",
            "                                                                                                  \n",
            " batch_normalization_67 (BatchN  (None, 50, 150, 256  1024       ['conv2d_transpose_9[0][0]']     \n",
            " ormalization)                  )                                                                 \n",
            "                                                                                                  \n",
            " activation_67 (Activation)     (None, 50, 150, 256  0           ['batch_normalization_67[0][0]'] \n",
            "                                )                                                                 \n",
            "                                                                                                  \n",
            " concatenate_9 (Concatenate)    (None, 50, 150, 512  0           ['activation_67[0][0]',          \n",
            "                                )                                 'activation_63[0][0]']          \n",
            "                                                                                                  \n",
            " conv2d_21 (Conv2D)             (None, 50, 150, 256  1179904     ['concatenate_9[0][0]']          \n",
            "                                )                                                                 \n",
            "                                                                                                  \n",
            " batch_normalization_68 (BatchN  (None, 50, 150, 256  1024       ['conv2d_21[0][0]']              \n",
            " ormalization)                  )                                                                 \n",
            "                                                                                                  \n",
            " activation_68 (Activation)     (None, 50, 150, 256  0           ['batch_normalization_68[0][0]'] \n",
            "                                )                                                                 \n",
            "                                                                                                  \n",
            " conv2d_22 (Conv2D)             (None, 50, 150, 256  590080      ['activation_68[0][0]']          \n",
            "                                )                                                                 \n",
            "                                                                                                  \n",
            " batch_normalization_69 (BatchN  (None, 50, 150, 256  1024       ['conv2d_22[0][0]']              \n",
            " ormalization)                  )                                                                 \n",
            "                                                                                                  \n",
            " activation_69 (Activation)     (None, 50, 150, 256  0           ['batch_normalization_69[0][0]'] \n",
            "                                )                                                                 \n",
            "                                                                                                  \n",
            " conv2d_transpose_10 (Conv2DTra  (None, 100, 300, 12  131200     ['activation_69[0][0]']          \n",
            " nspose)                        8)                                                                \n",
            "                                                                                                  \n",
            " batch_normalization_70 (BatchN  (None, 100, 300, 12  512        ['conv2d_transpose_10[0][0]']    \n",
            " ormalization)                  8)                                                                \n",
            "                                                                                                  \n",
            " activation_70 (Activation)     (None, 100, 300, 12  0           ['batch_normalization_70[0][0]'] \n",
            "                                8)                                                                \n",
            "                                                                                                  \n",
            " concatenate_10 (Concatenate)   (None, 100, 300, 25  0           ['activation_70[0][0]',          \n",
            "                                6)                                'activation_60[0][0]']          \n",
            "                                                                                                  \n",
            " conv2d_23 (Conv2D)             (None, 100, 300, 12  295040      ['concatenate_10[0][0]']         \n",
            "                                8)                                                                \n",
            "                                                                                                  \n",
            " batch_normalization_71 (BatchN  (None, 100, 300, 12  512        ['conv2d_23[0][0]']              \n",
            " ormalization)                  8)                                                                \n",
            "                                                                                                  \n",
            " activation_71 (Activation)     (None, 100, 300, 12  0           ['batch_normalization_71[0][0]'] \n",
            "                                8)                                                                \n",
            "                                                                                                  \n",
            " conv2d_24 (Conv2D)             (None, 100, 300, 12  147584      ['activation_71[0][0]']          \n",
            "                                8)                                                                \n",
            "                                                                                                  \n",
            " batch_normalization_72 (BatchN  (None, 100, 300, 12  512        ['conv2d_24[0][0]']              \n",
            " ormalization)                  8)                                                                \n",
            "                                                                                                  \n",
            " activation_72 (Activation)     (None, 100, 300, 12  0           ['batch_normalization_72[0][0]'] \n",
            "                                8)                                                                \n",
            "                                                                                                  \n",
            " conv2d_transpose_11 (Conv2DTra  (None, 200, 600, 64  32832      ['activation_72[0][0]']          \n",
            " nspose)                        )                                                                 \n",
            "                                                                                                  \n",
            " batch_normalization_73 (BatchN  (None, 200, 600, 64  256        ['conv2d_transpose_11[0][0]']    \n",
            " ormalization)                  )                                                                 \n",
            "                                                                                                  \n",
            " activation_73 (Activation)     (None, 200, 600, 64  0           ['batch_normalization_73[0][0]'] \n",
            "                                )                                                                 \n",
            "                                                                                                  \n"
          ]
        },
        {
          "name": "stdout",
          "output_type": "stream",
          "text": [
            " concatenate_11 (Concatenate)   (None, 200, 600, 12  0           ['activation_73[0][0]',          \n",
            "                                8)                                'activation_58[0][0]']          \n",
            "                                                                                                  \n",
            " conv2d_25 (Conv2D)             (None, 200, 600, 64  73792       ['concatenate_11[0][0]']         \n",
            "                                )                                                                 \n",
            "                                                                                                  \n",
            " batch_normalization_74 (BatchN  (None, 200, 600, 64  256        ['conv2d_25[0][0]']              \n",
            " ormalization)                  )                                                                 \n",
            "                                                                                                  \n",
            " activation_74 (Activation)     (None, 200, 600, 64  0           ['batch_normalization_74[0][0]'] \n",
            "                                )                                                                 \n",
            "                                                                                                  \n",
            " conv2d_26 (Conv2D)             (None, 200, 600, 64  36928       ['activation_74[0][0]']          \n",
            "                                )                                                                 \n",
            "                                                                                                  \n",
            " batch_normalization_75 (BatchN  (None, 200, 600, 64  256        ['conv2d_26[0][0]']              \n",
            " ormalization)                  )                                                                 \n",
            "                                                                                                  \n",
            " activation_75 (Activation)     (None, 200, 600, 64  0           ['batch_normalization_75[0][0]'] \n",
            "                                )                                                                 \n",
            "                                                                                                  \n",
            " conv2d_27 (Conv2D)             (None, 200, 600, 2)  1154        ['activation_75[0][0]']          \n",
            "                                                                                                  \n",
            "==================================================================================================\n",
            "Total params: 10,664,450\n",
            "Trainable params: 10,656,386\n",
            "Non-trainable params: 8,064\n",
            "__________________________________________________________________________________________________\n",
            "You must install pydot (`pip install pydot`) and install graphviz (see instructions at https://graphviz.gitlab.io/download/) for plot_model to work.\n"
          ]
        }
      ],
      "source": [
        "modelC = Unet(2, (200, 600, 3))\n",
        "\n",
        "plot_model(modelC, to_file='modelC.png')"
      ]
    },
    {
      "cell_type": "code",
      "execution_count": null,
      "metadata": {
        "id": "XYcRpp_h9sZB",
        "outputId": "ab13a3d3-db18-4f15-b281-3cbdaf1117a2"
      },
      "outputs": [
        {
          "name": "stdout",
          "output_type": "stream",
          "text": [
            "Epoch 1/30\n",
            "80/80 [==============================] - ETA: 0s - loss: 0.0991 - dice_coef: 0.9422"
          ]
        }
      ],
      "source": [
        "history = modelC.fit(xTrain, yTrain, epochs=30, batch_size=1, validation_data=(xTest, yTest))"
      ]
    },
    {
      "cell_type": "code",
      "execution_count": null,
      "metadata": {
        "id": "4cr-vdzV9sZB"
      },
      "outputs": [],
      "source": [
        "plt.plot(history.history['val_dice_coef'],label = 'test')\n",
        "plt.plot(history.history['dice_coef'],label='train')\n",
        "plt.legend()\n",
        "plt.xlabel('epoch')\n",
        "plt.ylabel('dice_coef')\n",
        "plt.show()"
      ]
    },
    {
      "cell_type": "markdown",
      "metadata": {
        "id": "F38ui9oy9sZB"
      },
      "source": [
        "**Претренированная модель**"
      ]
    },
    {
      "cell_type": "code",
      "execution_count": null,
      "metadata": {
        "id": "4QXaUjIP9sZB"
      },
      "outputs": [],
      "source": [
        "pre_trained_model = VGG16(input_shape=xTest.shape[1:], include_top=False, weights=\"imagenet\")"
      ]
    },
    {
      "cell_type": "code",
      "execution_count": null,
      "metadata": {
        "id": "zMLlBoYM9sZB"
      },
      "outputs": [],
      "source": [
        "def bloc_transpose(x,block_out, numb_filter = [256,128]):\n",
        "  x = concatenate([x, block_out])\n",
        "  x = Conv2D(numb_filter[0], (3, 3), padding='same')(x)\n",
        "  x = BatchNormalization()(x)\n",
        "  x = Activation('relu')(x)\n",
        "\n",
        "  x = Conv2D(numb_filter[0], (3, 3), padding='same')(x)\n",
        "  x = BatchNormalization()(x)\n",
        "  x = Activation('relu')(x)\n",
        "\n",
        "  # UP\n",
        "  x = Conv2DTranspose(numb_filter[1], (2, 2), strides=(2, 2), padding='same')(x)\n",
        "  x = BatchNormalization()(x)\n",
        "  x = Activation('relu')(x)\n",
        "  return x"
      ]
    },
    {
      "cell_type": "code",
      "execution_count": null,
      "metadata": {
        "id": "ue5rf0Ke9sZC"
      },
      "outputs": [],
      "source": [
        "def unet_pre_train(num_classes = 13, input_shape= (200, 600, 3)):\n",
        "    pre_trained_model = VGG16(input_shape=input_shape, include_top=False, weights=\"imagenet\")\n",
        "\n",
        "    for layer in pre_trained_model.layers[:18]:\n",
        "      layer.trainable = False\n",
        "    x = pre_trained_model.layers[13].output # конец сверток\n",
        "    block_4_out = pre_trained_model.layers[10].output\n",
        "    block_3_out = pre_trained_model.layers[6].output\n",
        "    block_2_out = pre_trained_model.layers[3].output # первое уменьшение размера\n",
        "    img_input = pre_trained_model.inputs\n",
        "    print(block_4_out)\n",
        "    print(block_3_out)\n",
        "    print(block_2_out)\n",
        "    # UP 1\n",
        "\n",
        "    # добавили перенос из понижаюшего плеча VGG16\n",
        "    x = bloc_transpose(x, block_4_out, numb_filter = [256,128])\n",
        "\n",
        "\n",
        "    # добавили перенос из понижаюшего плеча VGG16\n",
        "    x = bloc_transpose(x,block_3_out, numb_filter = [128,64])\n",
        "\n",
        "\n",
        "    # UP 3\n",
        "\n",
        "\n",
        "    # добавили перенос из понижаюшего плеча VGG16\n",
        "    x = bloc_transpose(x,block_2_out, numb_filter = [64,32])\n",
        "\n",
        "\n",
        "    # UP 4\n",
        "\n",
        "\n",
        "    #\n",
        "    x = Conv2D(64, (3, 3), padding='same')(x)\n",
        "    x = BatchNormalization()(x)\n",
        "    x = Activation('relu')(x)\n",
        "\n",
        "    x = Conv2D(num_classes, (3, 3), activation='softmax', padding='same')(x)\n",
        "\n",
        "    model = Model(img_input, x)\n",
        "    model.compile(optimizer=Adam(),\n",
        "                  loss='categorical_crossentropy',\n",
        "                  metrics=[dice_coef])\n",
        "    model.summary()\n",
        "    return model"
      ]
    },
    {
      "cell_type": "code",
      "execution_count": null,
      "metadata": {
        "id": "ErspsicK9sZC"
      },
      "outputs": [],
      "source": [
        "modelU = unet_pre_train(num_classes = 2, input_shape= (200, 600, 3))\n",
        "\n",
        "plot_model(modelU, to_file='modelU.png')"
      ]
    },
    {
      "cell_type": "code",
      "execution_count": null,
      "metadata": {
        "id": "uXZ530Zh9sZC"
      },
      "outputs": [],
      "source": [
        "historyU = modelU.fit(xTrain, yTrain, epochs=30, batch_size=3,\n",
        "                      validation_data=(xTrain, yTrain),\n",
        "                      callbacks = [tf.keras.callbacks.EarlyStopping( patience=5 )])"
      ]
    },
    {
      "cell_type": "code",
      "execution_count": null,
      "metadata": {
        "id": "gPFJcfSm9sZC"
      },
      "outputs": [],
      "source": [
        "plt.plot(historyU.history['val_dice_coef'],label = 'test')\n",
        "plt.plot(historyU.history['dice_coef'],label='train')\n",
        "plt.legend()\n",
        "plt.xlabel('epoch')\n",
        "plt.ylabel('dice_coef')\n",
        "plt.show()"
      ]
    },
    {
      "cell_type": "markdown",
      "metadata": {
        "id": "thwNThbZ9sZC"
      },
      "source": [
        "**Вывод**"
      ]
    },
    {
      "cell_type": "markdown",
      "metadata": {
        "id": "YAS1wz5_9sZD"
      },
      "source": [
        "Претренированная модель показывает лучшие результаты (более гладкая кривая обучения)."
      ]
    }
  ],
  "metadata": {
    "colab": {
      "provenance": [],
      "include_colab_link": true
    },
    "kernelspec": {
      "display_name": "Python 3 (ipykernel)",
      "language": "python",
      "name": "python3"
    },
    "language_info": {
      "codemirror_mode": {
        "name": "ipython",
        "version": 3
      },
      "file_extension": ".py",
      "mimetype": "text/x-python",
      "name": "python",
      "nbconvert_exporter": "python",
      "pygments_lexer": "ipython3",
      "version": "3.9.16"
    }
  },
  "nbformat": 4,
  "nbformat_minor": 0
}